{
  "nbformat": 4,
  "nbformat_minor": 0,
  "metadata": {
    "colab": {
      "name": "Task - 1, supervised ML.ipynb",
      "provenance": [],
      "collapsed_sections": []
    },
    "kernelspec": {
      "name": "python3",
      "display_name": "Python 3"
    },
    "language_info": {
      "name": "python"
    }
  },
  "cells": [
    {
      "cell_type": "markdown",
      "metadata": {
        "id": "cWzA5Cl1xWxN"
      },
      "source": [
        "#Task done by Steve Richards"
      ]
    },
    {
      "cell_type": "markdown",
      "metadata": {
        "id": "4-6-CpFYfTru"
      },
      "source": [
        "Importing necessary libraries."
      ]
    },
    {
      "cell_type": "code",
      "metadata": {
        "id": "FSWhMtGwVeGh"
      },
      "source": [
        "import pandas as pd\n",
        "from sklearn import model_selection, linear_model\n",
        "import matplotlib.pyplot as plt"
      ],
      "execution_count": null,
      "outputs": []
    },
    {
      "cell_type": "markdown",
      "metadata": {
        "id": "fd6OCIuxfbGC"
      },
      "source": [
        "#Importing data and forming dataframe."
      ]
    },
    {
      "cell_type": "code",
      "metadata": {
        "colab": {
          "base_uri": "https://localhost:8080/",
          "height": 202
        },
        "id": "frrcC7kNe3DP",
        "outputId": "02974b7a-1fa0-4bee-9c99-5d6d4d9f5fb6"
      },
      "source": [
        "df = pd.read_csv(\"https://raw.githubusercontent.com/AdiPersonalWorks/Random/master/student_scores%20-%20student_scores.csv\")\n",
        "df.head()"
      ],
      "execution_count": null,
      "outputs": [
        {
          "output_type": "execute_result",
          "data": {
            "text/html": [
              "<div>\n",
              "<style scoped>\n",
              "    .dataframe tbody tr th:only-of-type {\n",
              "        vertical-align: middle;\n",
              "    }\n",
              "\n",
              "    .dataframe tbody tr th {\n",
              "        vertical-align: top;\n",
              "    }\n",
              "\n",
              "    .dataframe thead th {\n",
              "        text-align: right;\n",
              "    }\n",
              "</style>\n",
              "<table border=\"1\" class=\"dataframe\">\n",
              "  <thead>\n",
              "    <tr style=\"text-align: right;\">\n",
              "      <th></th>\n",
              "      <th>Hours</th>\n",
              "      <th>Scores</th>\n",
              "    </tr>\n",
              "  </thead>\n",
              "  <tbody>\n",
              "    <tr>\n",
              "      <th>0</th>\n",
              "      <td>2.5</td>\n",
              "      <td>21</td>\n",
              "    </tr>\n",
              "    <tr>\n",
              "      <th>1</th>\n",
              "      <td>5.1</td>\n",
              "      <td>47</td>\n",
              "    </tr>\n",
              "    <tr>\n",
              "      <th>2</th>\n",
              "      <td>3.2</td>\n",
              "      <td>27</td>\n",
              "    </tr>\n",
              "    <tr>\n",
              "      <th>3</th>\n",
              "      <td>8.5</td>\n",
              "      <td>75</td>\n",
              "    </tr>\n",
              "    <tr>\n",
              "      <th>4</th>\n",
              "      <td>3.5</td>\n",
              "      <td>30</td>\n",
              "    </tr>\n",
              "  </tbody>\n",
              "</table>\n",
              "</div>"
            ],
            "text/plain": [
              "   Hours  Scores\n",
              "0    2.5      21\n",
              "1    5.1      47\n",
              "2    3.2      27\n",
              "3    8.5      75\n",
              "4    3.5      30"
            ]
          },
          "metadata": {
            "tags": []
          },
          "execution_count": 3
        }
      ]
    },
    {
      "cell_type": "code",
      "metadata": {
        "colab": {
          "base_uri": "https://localhost:8080/",
          "height": 202
        },
        "id": "1BCmXIMcfIaw",
        "outputId": "1f97f08e-f996-49c4-cfb4-4605dc1539af"
      },
      "source": [
        "df.tail()"
      ],
      "execution_count": null,
      "outputs": [
        {
          "output_type": "execute_result",
          "data": {
            "text/html": [
              "<div>\n",
              "<style scoped>\n",
              "    .dataframe tbody tr th:only-of-type {\n",
              "        vertical-align: middle;\n",
              "    }\n",
              "\n",
              "    .dataframe tbody tr th {\n",
              "        vertical-align: top;\n",
              "    }\n",
              "\n",
              "    .dataframe thead th {\n",
              "        text-align: right;\n",
              "    }\n",
              "</style>\n",
              "<table border=\"1\" class=\"dataframe\">\n",
              "  <thead>\n",
              "    <tr style=\"text-align: right;\">\n",
              "      <th></th>\n",
              "      <th>Hours</th>\n",
              "      <th>Scores</th>\n",
              "    </tr>\n",
              "  </thead>\n",
              "  <tbody>\n",
              "    <tr>\n",
              "      <th>20</th>\n",
              "      <td>2.7</td>\n",
              "      <td>30</td>\n",
              "    </tr>\n",
              "    <tr>\n",
              "      <th>21</th>\n",
              "      <td>4.8</td>\n",
              "      <td>54</td>\n",
              "    </tr>\n",
              "    <tr>\n",
              "      <th>22</th>\n",
              "      <td>3.8</td>\n",
              "      <td>35</td>\n",
              "    </tr>\n",
              "    <tr>\n",
              "      <th>23</th>\n",
              "      <td>6.9</td>\n",
              "      <td>76</td>\n",
              "    </tr>\n",
              "    <tr>\n",
              "      <th>24</th>\n",
              "      <td>7.8</td>\n",
              "      <td>86</td>\n",
              "    </tr>\n",
              "  </tbody>\n",
              "</table>\n",
              "</div>"
            ],
            "text/plain": [
              "    Hours  Scores\n",
              "20    2.7      30\n",
              "21    4.8      54\n",
              "22    3.8      35\n",
              "23    6.9      76\n",
              "24    7.8      86"
            ]
          },
          "metadata": {
            "tags": []
          },
          "execution_count": 4
        }
      ]
    },
    {
      "cell_type": "markdown",
      "metadata": {
        "id": "M4qsDD4vfjTj"
      },
      "source": [
        "#Visualizing data to see whether or not there's a linear relation between dependent(Scores) and independent variable(Hours)."
      ]
    },
    {
      "cell_type": "code",
      "metadata": {
        "colab": {
          "base_uri": "https://localhost:8080/"
        },
        "id": "TUsngTC0p5cr",
        "outputId": "a72c3f0c-6497-4d49-8b54-0b9058c6e61f"
      },
      "source": [
        "#Seeing the correlation between study hours and percentage of marks scored.\n",
        "df.Hours.corr(df.Scores)"
      ],
      "execution_count": null,
      "outputs": [
        {
          "output_type": "execute_result",
          "data": {
            "text/plain": [
              "0.9761906560220887"
            ]
          },
          "metadata": {
            "tags": []
          },
          "execution_count": 5
        }
      ]
    },
    {
      "cell_type": "code",
      "metadata": {
        "colab": {
          "base_uri": "https://localhost:8080/",
          "height": 279
        },
        "id": "cSn7JU0mfM2j",
        "outputId": "3893e5bc-f933-43e4-dfcf-cb24e0c63a79"
      },
      "source": [
        "plt.scatter(df.Hours, df.Scores, marker = '*', color = 'red')\n",
        "plt.xlabel('Study hours')\n",
        "plt.ylabel('Marks scored')\n",
        "plt.show()\n",
        "#We can wee linear relation between the dependent and independent variable, which allows us to use linear regression model."
      ],
      "execution_count": null,
      "outputs": [
        {
          "output_type": "display_data",
          "data": {
            "image/png": "[encoded data removed]",
            "text/plain": [
              "<Figure size 432x288 with 1 Axes>"
            ]
          },
          "metadata": {
            "tags": [],
            "needs_background": "light"
          }
        }
      ]
    },
    {
      "cell_type": "markdown",
      "metadata": {
        "id": "MyO4hbqugeyA"
      },
      "source": [
        "#Splitting the dataset into train set and test set.(just to learn about the accuracy of the model)"
      ]
    },
    {
      "cell_type": "code",
      "metadata": {
        "id": "q__gosAzgKva"
      },
      "source": [
        "x_train, x_test, y_train, y_test = model_selection.train_test_split(df[['Hours']], df.Scores, test_size = 0.2)"
      ],
      "execution_count": null,
      "outputs": []
    },
    {
      "cell_type": "code",
      "metadata": {
        "colab": {
          "base_uri": "https://localhost:8080/"
        },
        "id": "T0-Bu4djhc3v",
        "outputId": "75fdec06-8f6a-4d28-e41c-c6a8a7f90a28"
      },
      "source": [
        "x_train, y_train"
      ],
      "execution_count": null,
      "outputs": [
        {
          "output_type": "execute_result",
          "data": {
            "text/plain": [
              "(    Hours\n",
              " 3     8.5\n",
              " 13    3.3\n",
              " 21    4.8\n",
              " 16    2.5\n",
              " 12    4.5\n",
              " 7     5.5\n",
              " 1     5.1\n",
              " 10    7.7\n",
              " 23    6.9\n",
              " 4     3.5\n",
              " 8     8.3\n",
              " 15    8.9\n",
              " 24    7.8\n",
              " 11    5.9\n",
              " 9     2.7\n",
              " 20    2.7\n",
              " 17    1.9\n",
              " 14    1.1\n",
              " 6     9.2\n",
              " 22    3.8, 3     75\n",
              " 13    42\n",
              " 21    54\n",
              " 16    30\n",
              " 12    41\n",
              " 7     60\n",
              " 1     47\n",
              " 10    85\n",
              " 23    76\n",
              " 4     30\n",
              " 8     81\n",
              " 15    95\n",
              " 24    86\n",
              " 11    62\n",
              " 9     25\n",
              " 20    30\n",
              " 17    24\n",
              " 14    17\n",
              " 6     88\n",
              " 22    35\n",
              " Name: Scores, dtype: int64)"
            ]
          },
          "metadata": {
            "tags": []
          },
          "execution_count": 8
        }
      ]
    },
    {
      "cell_type": "markdown",
      "metadata": {
        "id": "h6gA9ymYhvdm"
      },
      "source": [
        "#Training model, testing accuracy of the model.\n"
      ]
    },
    {
      "cell_type": "code",
      "metadata": {
        "id": "9_qYMORDhK8W"
      },
      "source": [
        "model = linear_model.LinearRegression()"
      ],
      "execution_count": null,
      "outputs": []
    },
    {
      "cell_type": "code",
      "metadata": {
        "colab": {
          "base_uri": "https://localhost:8080/"
        },
        "id": "q6ocpz64iV80",
        "outputId": "92fd69a5-7923-4a1c-bf59-0c1e419374fe"
      },
      "source": [
        "model.fit(x_train, y_train)"
      ],
      "execution_count": null,
      "outputs": [
        {
          "output_type": "execute_result",
          "data": {
            "text/plain": [
              "LinearRegression(copy_X=True, fit_intercept=True, n_jobs=None, normalize=False)"
            ]
          },
          "metadata": {
            "tags": []
          },
          "execution_count": 10
        }
      ]
    },
    {
      "cell_type": "code",
      "metadata": {
        "colab": {
          "base_uri": "https://localhost:8080/"
        },
        "id": "uHL1rMh7igci",
        "outputId": "3418e695-4e87-4b1a-9910-b23648e0d699"
      },
      "source": [
        "#Accuracy of the model after training the model using 80% of the data and testing with 20% of the data.\n",
        "model.score(x_test, y_test)"
      ],
      "execution_count": null,
      "outputs": [
        {
          "output_type": "execute_result",
          "data": {
            "text/plain": [
              "0.9349054786163821"
            ]
          },
          "metadata": {
            "tags": []
          },
          "execution_count": 11
        }
      ]
    },
    {
      "cell_type": "markdown",
      "metadata": {
        "id": "uz2l4f74jPWT"
      },
      "source": [
        "#Training the model using test data."
      ]
    },
    {
      "cell_type": "code",
      "metadata": {
        "colab": {
          "base_uri": "https://localhost:8080/"
        },
        "id": "FlmgILVgjKFB",
        "outputId": "75fbaf46-0b5b-47e0-fa22-37da055b8777"
      },
      "source": [
        "model.fit(x_test, y_test)"
      ],
      "execution_count": null,
      "outputs": [
        {
          "output_type": "execute_result",
          "data": {
            "text/plain": [
              "LinearRegression(copy_X=True, fit_intercept=True, n_jobs=None, normalize=False)"
            ]
          },
          "metadata": {
            "tags": []
          },
          "execution_count": 12
        }
      ]
    },
    {
      "cell_type": "markdown",
      "metadata": {
        "id": "Y8Lr8YpFkeTM"
      },
      "source": [
        "#predicting the score of a student who spends 9.25 hours/day in studies."
      ]
    },
    {
      "cell_type": "code",
      "metadata": {
        "colab": {
          "base_uri": "https://localhost:8080/"
        },
        "id": "-nfcLXvbkb7r",
        "outputId": "e3930140-a784-4a80-cb1c-6944b9d68070"
      },
      "source": [
        "model.predict([[9.25]])"
      ],
      "execution_count": null,
      "outputs": [
        {
          "output_type": "execute_result",
          "data": {
            "text/plain": [
              "array([90.57612346])"
            ]
          },
          "metadata": {
            "tags": []
          },
          "execution_count": 17
        }
      ]
    },
    {
      "cell_type": "markdown",
      "metadata": {
        "id": "zJmaPWR6wn1G"
      },
      "source": [
        "A student who studies for 9.25 hours will score 90.57"
      ]
    },
    {
      "cell_type": "code",
      "metadata": {
        "colab": {
          "base_uri": "https://localhost:8080/"
        },
        "id": "bj3QgrCRlGS8",
        "outputId": "89b93cdc-a042-46de-beea-f8ab596ae6d5"
      },
      "source": [
        "c = model.intercept_\n",
        "c"
      ],
      "execution_count": null,
      "outputs": [
        {
          "output_type": "execute_result",
          "data": {
            "text/plain": [
              "0.4725731648808562"
            ]
          },
          "metadata": {
            "tags": []
          },
          "execution_count": 14
        }
      ]
    },
    {
      "cell_type": "code",
      "metadata": {
        "colab": {
          "base_uri": "https://localhost:8080/"
        },
        "id": "3xct2i4flQWH",
        "outputId": "9ef4527a-37d6-47f4-a371-c37df7d03000"
      },
      "source": [
        "m = model.coef_\n",
        "m"
      ],
      "execution_count": null,
      "outputs": [
        {
          "output_type": "execute_result",
          "data": {
            "text/plain": [
              "array([9.74092436])"
            ]
          },
          "metadata": {
            "tags": []
          },
          "execution_count": 15
        }
      ]
    },
    {
      "cell_type": "markdown",
      "metadata": {
        "id": "UDv0V2lwmIwM"
      },
      "source": [
        "#Visualizing the best fit line among the data points."
      ]
    },
    {
      "cell_type": "code",
      "metadata": {
        "colab": {
          "base_uri": "https://localhost:8080/",
          "height": 279
        },
        "id": "yYAQVYUNlYyS",
        "outputId": "f0a35b5a-1384-43bf-a05c-002302ee4858"
      },
      "source": [
        "y_pred = model.predict(df[['Hours']])\n",
        "plt.scatter(df.Hours, df.Scores, marker = '*', color = 'red')\n",
        "plt.plot(df.Hours, y_pred, color = 'blue')\n",
        "plt.xlabel('Study hours')\n",
        "plt.ylabel('Marks scored')\n",
        "plt.show()"
      ],
      "execution_count": null,
      "outputs": [
        {
          "output_type": "display_data",
          "data": {
            "image/png": "[encoded data removed]",
            "text/plain": [
              "<Figure size 432x288 with 1 Axes>"
            ]
          },
          "metadata": {
            "tags": [],
            "needs_background": "light"
          }
        }
      ]
    }
  ]
}